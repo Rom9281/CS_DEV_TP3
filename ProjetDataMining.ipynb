{
  "nbformat": 4,
  "nbformat_minor": 0,
  "metadata": {
    "colab": {
      "name": "ProjetDataMiningRomain.ipynb",
      "provenance": [],
      "collapsed_sections": [],
      "include_colab_link": true
    },
    "kernelspec": {
      "name": "python3",
      "display_name": "Python 3"
    },
    "language_info": {
      "name": "python"
    }
  },
  "cells": [
    {
      "cell_type": "markdown",
      "metadata": {
        "id": "view-in-github",
        "colab_type": "text"
      },
      "source": [
        "<a href=\"https://colab.research.google.com/github/Rom9281/CS_DEV_TP3/blob/master/ProjetDataMining.ipynb\" target=\"_parent\"><img src=\"https://colab.research.google.com/assets/colab-badge.svg\" alt=\"Open In Colab\"/></a>"
      ]
    },
    {
      "cell_type": "markdown",
      "source": [
        ""
      ],
      "metadata": {
        "id": "OAcMjQang1kQ"
      }
    },
    {
      "cell_type": "markdown",
      "source": [
        "# Projet Data Mining\n",
        "\n",
        "Romain GAUD and Maxime Curral"
      ],
      "metadata": {
        "id": "OfxiMwVdg25F"
      }
    },
    {
      "cell_type": "markdown",
      "source": [
        "## Used Libraries"
      ],
      "metadata": {
        "id": "Vyv-ju4lliFz"
      }
    },
    {
      "cell_type": "code",
      "source": [
        "import os\n",
        "from PIL import Image\n",
        "import numpy\n",
        "import math\n",
        "import pandas as pd\n",
        "import matplotlib.pyplot as plot\n",
        "from sklearn.cluster import KMeans\n",
        "import json\n",
        "import random\n",
        "from os.path import exists\n",
        "#from ipywidgets.widgets.widget_selection import ToggleButtons\n",
        "import matplotlib.pyplot as plt\n",
        "import matplotlib.image as mpimg\n",
        "#import ipywidgets as widgets\n",
        "#from IPython.display import clear_output\n",
        "import pandas as pd\n",
        "from sklearn.preprocessing import LabelEncoder\n",
        "from sklearn import tree\n",
        "from PIL import Image\n",
        "import warnings\n"
      ],
      "metadata": {
        "id": "bKZASXw8lhc7"
      },
      "execution_count": null,
      "outputs": []
    },
    {
      "cell_type": "markdown",
      "source": [
        "## Data Collection\n",
        "**NOTE:** Works on a google colab python notebook.\n",
        "\n",
        "This part of the code is mostly extracted from [here](https://gist.github.com/jayspeidell/d10b84b8d3da52df723beacc5b15cb27)."
      ],
      "metadata": {
        "id": "zb9357hu9opK"
      }
    },
    {
      "cell_type": "code",
      "source": [
        "\"\"\"\n",
        "!cd /\n",
        "!pip install kaggle # Installing the kaggle API to automatically update the dB\n",
        "\n",
        "api_token = {\"username\":\"romaingaud\",\"key\":\"a5d6baeac0e8b20f305272f58fc188df\"} #Create a new token for each usage\n",
        "# kaggle.com>Account>API>Create New API Token\n",
        "\n",
        "import json\n",
        "import zipfile\n",
        "import os\n",
        "\n",
        "\n",
        "!mkdir /content/images # Creating the folder were the raw data will be written\n",
        "!mkdir /root/.kaggle # Creating the folder to write the API token\n",
        "\n",
        "with open('/root/.kaggle/kaggle.json', 'w') as file: \n",
        "    json.dump(api_token, file)\n",
        "\n",
        "!chmod 600 /root/.kaggle/kaggle.json # Changing the permission on the kaggle file to protect it\n",
        "\n",
        "!kaggle config path -p /content \n",
        "!kaggle datasets download -d puneet6060/intel-image-classification # Downloading\n",
        "\n",
        "os.chdir('/content/images') # Changing folder to be in the raw data folder\n",
        "\n",
        "for file in os.listdir(): # Unzipping and adding the photo's to content/data/\n",
        "    zip_ref = zipfile.ZipFile(file, 'r')\n",
        "    zip_ref.extractall()\n",
        "    zip_ref.close()\n",
        "\n",
        "\"\"\""
      ],
      "metadata": {
        "colab": {
          "base_uri": "https://localhost:8080/",
          "height": 120
        },
        "id": "8iftyfmP0BF9",
        "outputId": "ce87afb9-e879-456b-d747-eb162c23431f"
      },
      "execution_count": null,
      "outputs": [
        {
          "output_type": "execute_result",
          "data": {
            "text/plain": [
              "'\\n!cd /\\n!pip install kaggle # Installing the kaggle API to automatically update the dB\\n\\napi_token = {\"username\":\"romaingaud\",\"key\":\"a5d6baeac0e8b20f305272f58fc188df\"} #Create a new token for each usage\\n# kaggle.com>Account>API>Create New API Token\\n\\nimport json\\nimport zipfile\\nimport os\\n\\n\\n!mkdir /content/images # Creating the folder were the raw data will be written\\n!mkdir /root/.kaggle # Creating the folder to write the API token\\n\\nwith open(\\'/root/.kaggle/kaggle.json\\', \\'w\\') as file: \\n    json.dump(api_token, file)\\n\\n!chmod 600 /root/.kaggle/kaggle.json # Changing the permission on the kaggle file to protect it\\n\\n!kaggle config path -p /content \\n!kaggle datasets download -d puneet6060/intel-image-classification # Downloading\\n\\nos.chdir(\\'/content/images\\') # Changing folder to be in the raw data folder\\n\\nfor file in os.listdir(): # Unzipping and adding the photo\\'s to content/data/\\n    zip_ref = zipfile.ZipFile(file, \\'r\\')\\n    zip_ref.extractall()\\n    zip_ref.close()\\n\\n'"
            ],
            "application/vnd.google.colaboratory.intrinsic+json": {
              "type": "string"
            }
          },
          "metadata": {},
          "execution_count": 1
        }
      ]
    },
    {
      "cell_type": "markdown",
      "source": [
        "The code below is an alternate way to collect the images"
      ],
      "metadata": {
        "id": "TKOGPOewRMbg"
      }
    },
    {
      "cell_type": "code",
      "source": [
        "\n",
        "!mkdir /content/images # Creating the folder were the raw data will be written\n",
        "os.chdir('/content/images') # Changing folder to be in the raw data folder\n",
        "! git clone https://github.com/MaximeCurralCPE/Data-Mining.git\n",
        "!mkdir /content/colors # Creating the folder were the raw data will be written\n",
        "os.chdir('/content/colors') # Changing folder to be in the raw data folder\n",
        "! git clone https://github.com/cheprasov/json-colors.git\n",
        "!mkdir /content/images/Data-Mining/archive/seg_tested # Creating the folder were the raw data will be written"
      ],
      "metadata": {
        "colab": {
          "base_uri": "https://localhost:8080/",
          "height": 250
        },
        "id": "Uz3DK6N5RRD5",
        "outputId": "0a36c808-239e-463a-d9bb-4a7e41e63797"
      },
      "execution_count": null,
      "outputs": [
        {
          "output_type": "error",
          "ename": "NameError",
          "evalue": "ignored",
          "traceback": [
            "\u001b[0;31m---------------------------------------------------------------------------\u001b[0m",
            "\u001b[0;31mNameError\u001b[0m                                 Traceback (most recent call last)",
            "\u001b[0;32m<ipython-input-1-56e9c5fb7145>\u001b[0m in \u001b[0;36m<module>\u001b[0;34m()\u001b[0m\n\u001b[1;32m      1\u001b[0m \u001b[0;34m\u001b[0m\u001b[0m\n\u001b[1;32m      2\u001b[0m \u001b[0mget_ipython\u001b[0m\u001b[0;34m(\u001b[0m\u001b[0;34m)\u001b[0m\u001b[0;34m.\u001b[0m\u001b[0msystem\u001b[0m\u001b[0;34m(\u001b[0m\u001b[0;34m'mkdir /content/images # Creating the folder were the raw data will be written'\u001b[0m\u001b[0;34m)\u001b[0m\u001b[0;34m\u001b[0m\u001b[0;34m\u001b[0m\u001b[0m\n\u001b[0;32m----> 3\u001b[0;31m \u001b[0mos\u001b[0m\u001b[0;34m.\u001b[0m\u001b[0mchdir\u001b[0m\u001b[0;34m(\u001b[0m\u001b[0;34m'/content/images'\u001b[0m\u001b[0;34m)\u001b[0m \u001b[0;31m# Changing folder to be in the raw data folder\u001b[0m\u001b[0;34m\u001b[0m\u001b[0;34m\u001b[0m\u001b[0m\n\u001b[0m\u001b[1;32m      4\u001b[0m \u001b[0mget_ipython\u001b[0m\u001b[0;34m(\u001b[0m\u001b[0;34m)\u001b[0m\u001b[0;34m.\u001b[0m\u001b[0msystem\u001b[0m\u001b[0;34m(\u001b[0m\u001b[0;34m' git clone https://github.com/MaximeCurralCPE/Data-Mining.git'\u001b[0m\u001b[0;34m)\u001b[0m\u001b[0;34m\u001b[0m\u001b[0;34m\u001b[0m\u001b[0m\n\u001b[1;32m      5\u001b[0m \u001b[0mget_ipython\u001b[0m\u001b[0;34m(\u001b[0m\u001b[0;34m)\u001b[0m\u001b[0;34m.\u001b[0m\u001b[0msystem\u001b[0m\u001b[0;34m(\u001b[0m\u001b[0;34m'mkdir /content/colors # Creating the folder were the raw data will be written'\u001b[0m\u001b[0;34m)\u001b[0m\u001b[0;34m\u001b[0m\u001b[0;34m\u001b[0m\u001b[0m\n",
            "\u001b[0;31mNameError\u001b[0m: name 'os' is not defined"
          ]
        }
      ]
    },
    {
      "cell_type": "code",
      "source": [
        "\"\"\"\n",
        "!pip install Pillow\n",
        "!pip install exif\n",
        "!cd /content/images\n",
        "\n",
        "import PIL\n",
        "\n",
        "img = PIL.Image.open('/content/images/seg_pred/seg_pred/10004.jpg')\n",
        "print(img._getexif)\n",
        "exif_data = img._getexif()\n",
        "print(exif_data)\n",
        "\"\"\""
      ],
      "metadata": {
        "colab": {
          "base_uri": "https://localhost:8080/",
          "height": 52
        },
        "id": "RN7L01wmBeiH",
        "outputId": "f8b5fb45-7de9-4195-96c2-5b7a938ff677"
      },
      "execution_count": null,
      "outputs": [
        {
          "output_type": "execute_result",
          "data": {
            "text/plain": [
              "\"\\n!pip install Pillow\\n!pip install exif\\n!cd /content/images\\n\\nimport PIL\\n\\nimg = PIL.Image.open('/content/images/seg_pred/seg_pred/10004.jpg')\\nprint(img._getexif)\\nexif_data = img._getexif()\\nprint(exif_data)\\n\""
            ],
            "application/vnd.google.colaboratory.intrinsic+json": {
              "type": "string"
            }
          },
          "metadata": {},
          "execution_count": 3
        }
      ]
    },
    {
      "cell_type": "markdown",
      "source": [
        "## Labeling and Annotation"
      ],
      "metadata": {
        "id": "YiNaIIc5znBs"
      }
    },
    {
      "cell_type": "markdown",
      "source": [
        "We want to create a json file having the following information\n",
        "{ name : ... ,\n",
        "  path : ... ,\n",
        "  main_color : ... ,\n",
        "  enviroment : \n",
        "  building : 1,\n",
        "  sea  : 0,\n",
        "}"
      ],
      "metadata": {
        "id": "q690z2yD9652"
      }
    },
    {
      "cell_type": "code",
      "source": [
        "\n",
        "\n",
        "'''\n",
        "  Converts the rgb data to the closest color available.\n",
        "  @PARAM : rgb = array containing the colors between 0 and 255\n",
        "  @RET : a string with the name of the closest color\n",
        "'''\n",
        "def findName(rgb):\n",
        "  \n",
        "  dataframe=pd.read_json(\"/content/colors/json-colors/colors.json\") # Importing all the color names and putting them into a dataframe\n",
        "\n",
        "  dataframe['hex'] = dataframe['hex'].str[1:] # Taking out the hashtag out of the hex value\n",
        "\n",
        "  # The following lines extract the hex values and convert it to an int for each main color (red, blue and green).\n",
        "  # Then substracting it by the rgb values of the main color in the image\n",
        "  dataframe['r'] = abs(dataframe['hex'].str[:2].apply(int, base=16) - rgb[0])\n",
        "  dataframe['g'] = abs(dataframe['hex'].str[2:4].apply(int, base=16) - rgb[1])\n",
        "  dataframe['b'] = abs(dataframe['hex'].str[4:6].apply(int, base=16) - rgb[2])\n",
        "\n",
        "  dataframe['sum'] = (dataframe['r'] + dataframe['g'] + dataframe['b'])  # Summing the columns\n",
        "\n",
        "  df_main_color = dataframe.loc[dataframe['sum'] == dataframe['sum'].min()] # Getting the minimum value of the sum which would be the closest color to the one entered\n",
        "  \n",
        "  color_name = df_main_color.head().iloc[0]['name'] # Acessing the str value of the row containing the minimum value (taking the first one if there are multiple ones)\n",
        "  \n",
        "  return  color_name\n",
        "\n",
        "def getMainColor(image_analysis):\n",
        "  num = 1 # number of clusters given by user\n",
        "\n",
        "  imgfile = Image.open(image_analysis)\n",
        "\n",
        "  numarray = numpy.array(imgfile.getdata(), numpy.uint8)\n",
        "  clusters = KMeans(n_clusters = num) # adapting the algorithm to the number defined by the user\n",
        "  clusters.fit(numarray)\n",
        "\n",
        "  color_rgb = [\n",
        "    math.ceil(clusters.cluster_centers_[0][0]), \n",
        "        math.ceil(clusters.cluster_centers_[0][1]),\n",
        "    math.ceil(clusters.cluster_centers_[0][2])\n",
        "  ]\n",
        "\n",
        "  return findName(color_rgb)"
      ],
      "metadata": {
        "id": "Y_rqP7ZtTspy"
      },
      "execution_count": null,
      "outputs": []
    },
    {
      "cell_type": "code",
      "source": [
        "\n",
        "\n",
        "def saveJSON(data,result):\n",
        "\n",
        "  photographer = [\"Romain\",\"Maxime\",\"Michel\",\"Denis\",\"Jaquie\",\"Fares\"]\n",
        "\n",
        "  for row in data:\n",
        "    row.append(random.randint(1995,2021))\n",
        "    row.append(photographer[random.randint(0,len(photographer)-1)])\n",
        "\n",
        "  dataframe=pd.DataFrame(data,\n",
        "                         columns=['environment','main_color','year','photographer'])\n",
        "  resultframe=pd.DataFrame(result,\n",
        "                           columns= ['result'])\n",
        "  \n",
        "  dataframe.to_json(\"/content/data.json\")\n",
        "  resultframe.to_json(\"/content/result.json\")\n",
        "\n"
      ],
      "metadata": {
        "id": "gzovyXPKz0jm"
      },
      "execution_count": null,
      "outputs": []
    },
    {
      "cell_type": "markdown",
      "source": [
        "Another methode adding data to the file along the way for piwidget, did not work."
      ],
      "metadata": {
        "id": "L-1RsbJuJ0E0"
      }
    },
    {
      "cell_type": "code",
      "source": [
        "\"\"\"\n",
        "  for i in range(len(data[0])):\n",
        "    data[1].append(random.randint(1995,2021))\n",
        "    data[2].append(photographer[random.randint(0,len(photographer)-1)])\n",
        "\"\"\"\n",
        "\n",
        "\"\"\"\n",
        "def writeInfo(imgpath, environment, result):\n",
        "  # VARIABLES\n",
        "  \n",
        "  photographer = [\"Romain\",\"Maxime\",\"Michel\",\"Denis\",\"Jaquie\",\"Fares\"]\n",
        "  train_path = \"/content/images/Data-Mining/archive/seg_train/seg_train\"\n",
        "\n",
        "  # To add color ,getMainColor(imgpath)\n",
        "  data = [environment,random.randint(1995,2021),photographer[random.randint(0,len(photographer)-1)]]\n",
        "  result = [result]\n",
        "\n",
        "  if(not (exists(\"/content/data.json\") and exists(\"/content/result.json\"))):\n",
        "\n",
        "    dataframe=pd.read_json(\"/content/data.json\", orient='index')\n",
        "    resultframe=pd.read_json(\"/content/result.json\", orient='index')\n",
        "\n",
        "    print(dataframe)\n",
        "\n",
        "    dataframe.append(pd.DataFrame(data, index=\n",
        "                           ['environment','year','photographer']))\n",
        "                           \n",
        "    resultframe.append(pd.DataFrame(result,index=\n",
        "                           ['result']))\n",
        "    print(dataframe)\n",
        "    \n",
        "  \n",
        "  else:\n",
        "    # To add color ,'main_color'\n",
        "    dataframe=pd.DataFrame(data,index=\n",
        "                           ['environment','year','photographer'])\n",
        "    resultframe=pd.DataFrame(result,index=\n",
        "                           ['result'])\n",
        "\n",
        "  print(imgpath, environment, result)\n",
        "  json_data=''\n",
        "  json_result =''\n",
        "  dataframe.to_json(json_data)\n",
        "  print(json_data)\n",
        "  resultframe.to_json(\"/content/result.json\")\n",
        "\"\"\""
      ],
      "metadata": {
        "colab": {
          "base_uri": "https://localhost:8080/",
          "height": 246
        },
        "id": "vGOXQwAbJynn",
        "outputId": "f0b058c2-9c21-427f-eb0c-10b8ba7ffbad"
      },
      "execution_count": null,
      "outputs": [
        {
          "output_type": "execute_result",
          "data": {
            "text/plain": [
              "'\\ndef writeInfo(imgpath, environment, result):\\n  # VARIABLES\\n  \\n  photographer = [\"Romain\",\"Maxime\",\"Michel\",\"Denis\",\"Jaquie\",\"Fares\"]\\n  train_path = \"/content/images/Data-Mining/archive/seg_train/seg_train\"\\n\\n  # To add color ,getMainColor(imgpath)\\n  data = [environment,random.randint(1995,2021),photographer[random.randint(0,len(photographer)-1)]]\\n  result = [result]\\n\\n  if(not (exists(\"/content/data.json\") and exists(\"/content/result.json\"))):\\n\\n    dataframe=pd.read_json(\"/content/data.json\", orient=\\'index\\')\\n    resultframe=pd.read_json(\"/content/result.json\", orient=\\'index\\')\\n\\n    print(dataframe)\\n\\n    dataframe.append(pd.DataFrame(data, index=\\n                           [\\'environment\\',\\'year\\',\\'photographer\\']))\\n                           \\n    resultframe.append(pd.DataFrame(result,index=\\n                           [\\'result\\']))\\n    print(dataframe)\\n    \\n  \\n  else:\\n    # To add color ,\\'main_color\\'\\n    dataframe=pd.DataFrame(data,index=\\n                           [\\'environment\\',\\'year\\',\\'photographer\\'])\\n    resultframe=pd.DataFrame(result,index=\\n                           [\\'result\\'])\\n\\n  print(imgpath, environment, result)\\n  json_data=\\'\\'\\n  json_result =\\'\\'\\n  dataframe.to_json(json_data)\\n  print(json_data)\\n  resultframe.to_json(\"/content/result.json\")\\n'"
            ],
            "application/vnd.google.colaboratory.intrinsic+json": {
              "type": "string"
            }
          },
          "metadata": {},
          "execution_count": 6
        }
      ]
    },
    {
      "cell_type": "markdown",
      "source": [
        "## Data Analyses"
      ],
      "metadata": {
        "id": "FnNzJZ0xzZMB"
      }
    },
    {
      "cell_type": "markdown",
      "source": [
        "We want the user to like or dislike a few images among those in the *seg_train* folder. Once they have liked/disliked 10 images, the algorithm below should be able to extract informations about the user's preferences such as their favorite environment or predominant color."
      ],
      "metadata": {
        "id": "OtOXxQaoQCE3"
      }
    },
    {
      "cell_type": "markdown",
      "source": [
        "## Person generated likes"
      ],
      "metadata": {
        "id": "8bihO-u_D3kW"
      }
    },
    {
      "cell_type": "code",
      "source": [
        "\n",
        "\n",
        "\n",
        "def randomPicture():\n",
        "  #randomly select the environment from which we take the image\n",
        "  environment = random.choice(os.listdir(\"/content/images/Data-Mining/archive/seg_train\"))\n",
        "\n",
        "  filename_image = random.choice(os.listdir(\"/content/images/Data-Mining/archive/seg_train\" +\"/\"+ str(environment)))\n",
        "\n",
        "  #randomly select an image from the selected environment and display it to the user\n",
        "  imgpath = \"/content/images/Data-Mining/archive/seg_train\"+ \"/\" + str(environment) + \"/\" + filename_image\n",
        "\n",
        "  image = mpimg.imread(imgpath)\n",
        "  imgplot = plt.imshow(image)\n",
        "\n",
        "  return imgpath\n",
        "\n",
        "# Tried using pywidgets, worked very poorly.\n",
        "\n",
        "\n",
        "#ask the user if he likes the image\n",
        "def chooseLike():\n",
        "  data = []\n",
        "  result = []\n",
        "  flag = True\n",
        "\n",
        "  while flag:\n",
        "    path = randomPicture()\n",
        "\n",
        "    print(\"Choose if you like the picture or not: L or D\")\n",
        "    print(\"Type E to exit\")\n",
        "    \n",
        "    choice = input(\"\")\n",
        "    if choice in ['L','D','E']:\n",
        "      if choice == 'L':\n",
        "        result.append(['Like'])\n",
        "        data.append([environment,getMainColor(path)])\n",
        "      elif choice == 'D':\n",
        "        result.append(['Dislike'])\n",
        "        data.append([environment,getMainColor(path)])\n",
        "      else:\n",
        "        flag = False\n",
        "        saveJSON(data,result)\n",
        "    else:\n",
        "      print(\"Wrong choice\")\n"
      ],
      "metadata": {
        "id": "IFjmubr1P8Sx"
      },
      "execution_count": null,
      "outputs": []
    },
    {
      "cell_type": "markdown",
      "source": [
        "Tried using piwidget, did not work out well"
      ],
      "metadata": {
        "id": "YeUA0k4LFQsZ"
      }
    },
    {
      "cell_type": "code",
      "source": [
        "\"\"\"\n",
        "def generateButton():\n",
        "    buttons_list = [ widgets.Button(description=\"Like\"), \n",
        "            widgets.Button(description=\"Dislike\"),\n",
        "            widgets.Button(description=\"Exit\")]\n",
        "    output = widgets.Output()\n",
        "\n",
        "    for i,button in enumerate(buttons_list):\n",
        "      display(button, output)\n",
        "      if i==0:\n",
        "        button.on_click(liked)\n",
        "      elif i==1:\n",
        "        button.on_click(disliked)\n",
        "      else:\n",
        "        button.on_click(exit)\n",
        "\"\"\"\n",
        "\n",
        "\"\"\"\n",
        "def nextPicture(comment):\n",
        "  data.append([environment])\n",
        "  result.append([comment])\n",
        "  print(data)\n",
        "  from google.colab import output\n",
        "  output.clear()\n",
        "  randomPicture()\n",
        "  generateButton()\n",
        "\"\"\"\n",
        "\"\"\"\n",
        "def liked(b):\n",
        "  nextPicture('Liked')\n",
        "\n",
        "def disliked(b):\n",
        "  nextPicture('Disliked')\n",
        "\n",
        "def exit(b):\n",
        "  saveJSON(data,result)\n",
        "\"\"\"\n"
      ],
      "metadata": {
        "colab": {
          "base_uri": "https://localhost:8080/",
          "height": 35
        },
        "id": "QOi0kfrkFNhA",
        "outputId": "695689d5-b6f1-4d4e-b732-582dc0160c8b"
      },
      "execution_count": null,
      "outputs": [
        {
          "output_type": "execute_result",
          "data": {
            "text/plain": [
              "\"\\ndef liked(b):\\n  nextPicture('Liked')\\n\\ndef disliked(b):\\n  nextPicture('Disliked')\\n\\ndef exit(b):\\n  saveJSON(data,result)\\n\""
            ],
            "application/vnd.google.colaboratory.intrinsic+json": {
              "type": "string"
            }
          },
          "metadata": {},
          "execution_count": 8
        }
      ]
    },
    {
      "cell_type": "markdown",
      "source": [
        "## Algorithm generated likes\n",
        "\n",
        "To have more data available, it will simulate a person"
      ],
      "metadata": {
        "id": "TLjdUAnmENUo"
      }
    },
    {
      "cell_type": "code",
      "source": [
        "def simulateLike(limit):\n",
        "  data = []\n",
        "  result = []\n",
        "  choice = ['Like','Dislike']\n",
        " \n",
        "\n",
        "  for environment in os.listdir(\"/content/images/Data-Mining/archive/seg_train\"):\n",
        "    i=0\n",
        "    print(\"[$] Loaded %s\" %(environment,))\n",
        "    for image in os.listdir(\"/content/images/Data-Mining/archive/seg_train\" +\"/\"+ str(environment)):\n",
        "      i+=1\n",
        "      data.append([environment,getMainColor(\"/content/images/Data-Mining/archive/seg_train\" +\"/\"+ str(environment)+\"/\"+image)])\n",
        "      result.append([choice[random.randint(0,1)]])\n",
        "      if i==limit:\n",
        "        break\n",
        "  \n",
        "  saveJSON(data,result)\n"
      ],
      "metadata": {
        "id": "IxAUT0NNEMyM"
      },
      "execution_count": null,
      "outputs": []
    },
    {
      "cell_type": "markdown",
      "source": [
        "## Choosing between person or simulation\n",
        "\n",
        "If you choose the simulation, you can put a limit on the number of images you wish to have of each environment, otherwise the time it takes the algorithm to run is very long."
      ],
      "metadata": {
        "id": "e4boeB7rFbcG"
      }
    },
    {
      "cell_type": "code",
      "source": [
        "simulate = True\n",
        "limit = 100\n",
        "\n",
        "if simulate:\n",
        "  simulateLike(limit)\n",
        "else:\n",
        "  chooseLike()"
      ],
      "metadata": {
        "colab": {
          "base_uri": "https://localhost:8080/",
          "height": 381
        },
        "id": "n_AOs9lTFuGV",
        "outputId": "570ed9af-9cdd-4c4f-fd45-72bb4e633ca8"
      },
      "execution_count": null,
      "outputs": [
        {
          "output_type": "error",
          "ename": "NameError",
          "evalue": "ignored",
          "traceback": [
            "\u001b[0;31m---------------------------------------------------------------------------\u001b[0m",
            "\u001b[0;31mNameError\u001b[0m                                 Traceback (most recent call last)",
            "\u001b[0;32m<ipython-input-6-70c995346175>\u001b[0m in \u001b[0;36m<module>\u001b[0;34m()\u001b[0m\n\u001b[1;32m      3\u001b[0m \u001b[0;34m\u001b[0m\u001b[0m\n\u001b[1;32m      4\u001b[0m \u001b[0;32mif\u001b[0m \u001b[0msimulate\u001b[0m\u001b[0;34m:\u001b[0m\u001b[0;34m\u001b[0m\u001b[0;34m\u001b[0m\u001b[0m\n\u001b[0;32m----> 5\u001b[0;31m   \u001b[0msimulateLike\u001b[0m\u001b[0;34m(\u001b[0m\u001b[0mlimit\u001b[0m\u001b[0;34m)\u001b[0m\u001b[0;34m\u001b[0m\u001b[0;34m\u001b[0m\u001b[0m\n\u001b[0m\u001b[1;32m      6\u001b[0m \u001b[0;32melse\u001b[0m\u001b[0;34m:\u001b[0m\u001b[0;34m\u001b[0m\u001b[0;34m\u001b[0m\u001b[0m\n\u001b[1;32m      7\u001b[0m   \u001b[0mchooseLike\u001b[0m\u001b[0;34m(\u001b[0m\u001b[0;34m)\u001b[0m\u001b[0;34m\u001b[0m\u001b[0;34m\u001b[0m\u001b[0m\n",
            "\u001b[0;32m<ipython-input-5-9802890c7bb1>\u001b[0m in \u001b[0;36msimulateLike\u001b[0;34m(limit)\u001b[0m\n\u001b[1;32m      5\u001b[0m \u001b[0;34m\u001b[0m\u001b[0m\n\u001b[1;32m      6\u001b[0m \u001b[0;34m\u001b[0m\u001b[0m\n\u001b[0;32m----> 7\u001b[0;31m   \u001b[0;32mfor\u001b[0m \u001b[0menvironment\u001b[0m \u001b[0;32min\u001b[0m \u001b[0mos\u001b[0m\u001b[0;34m.\u001b[0m\u001b[0mlistdir\u001b[0m\u001b[0;34m(\u001b[0m\u001b[0;34m\"/content/images/Data-Mining/archive/seg_train\"\u001b[0m\u001b[0;34m)\u001b[0m\u001b[0;34m:\u001b[0m\u001b[0;34m\u001b[0m\u001b[0;34m\u001b[0m\u001b[0m\n\u001b[0m\u001b[1;32m      8\u001b[0m     \u001b[0mi\u001b[0m\u001b[0;34m=\u001b[0m\u001b[0;36m0\u001b[0m\u001b[0;34m\u001b[0m\u001b[0;34m\u001b[0m\u001b[0m\n\u001b[1;32m      9\u001b[0m     \u001b[0mprint\u001b[0m\u001b[0;34m(\u001b[0m\u001b[0;34m\"[$] Loaded %s\"\u001b[0m \u001b[0;34m%\u001b[0m\u001b[0;34m(\u001b[0m\u001b[0menvironment\u001b[0m\u001b[0;34m,\u001b[0m\u001b[0;34m)\u001b[0m\u001b[0;34m)\u001b[0m\u001b[0;34m\u001b[0m\u001b[0;34m\u001b[0m\u001b[0m\n",
            "\u001b[0;31mNameError\u001b[0m: name 'os' is not defined"
          ]
        }
      ]
    },
    {
      "cell_type": "markdown",
      "source": [
        "Generation d'une base de do"
      ],
      "metadata": {
        "id": "zLYXdskVyVJS"
      }
    },
    {
      "cell_type": "code",
      "source": [
        "dataframe=pd.read_json(\"/content/data.json\")\n",
        "resultframe=pd.read_json(\"/content/result.json\")\n",
        "#generating numerical labels\n",
        "\n",
        "print(dataframe)\n",
        "\n",
        "le2 = LabelEncoder()\n",
        "dataframe['environment'] = le2.fit_transform(dataframe['environment'])\n",
        "\n",
        "le3 = LabelEncoder()\n",
        "dataframe['year'] = le3.fit_transform(dataframe['year'])\n",
        "\n",
        "le4 = LabelEncoder()\n",
        "dataframe['photographer'] = le4.fit_transform(dataframe['photographer'])\n",
        "\n",
        "le5 = LabelEncoder()\n",
        "dataframe['main_color'] = le5.fit_transform(dataframe['main_color'])\n",
        "\n",
        "le6 = LabelEncoder()\n",
        "resultframe['result'] = le6.fit_transform(resultframe['result'])\n",
        "\n",
        "\n",
        "\n",
        "#Use of decision tree classifiers\n",
        "dtc = tree.DecisionTreeClassifier()\n",
        "dtc = dtc.fit(dataframe, resultframe)\n",
        "\n",
        "print(dtc.feature_importances_)\n"
      ],
      "metadata": {
        "id": "-ymXpXlUWfTM",
        "colab": {
          "base_uri": "https://localhost:8080/",
          "height": 250
        },
        "outputId": "4874d346-436b-4a50-8251-0f456067f28f"
      },
      "execution_count": null,
      "outputs": [
        {
          "output_type": "error",
          "ename": "NameError",
          "evalue": "ignored",
          "traceback": [
            "\u001b[0;31m---------------------------------------------------------------------------\u001b[0m",
            "\u001b[0;31mNameError\u001b[0m                                 Traceback (most recent call last)",
            "\u001b[0;32m<ipython-input-7-26bdcd4dcb53>\u001b[0m in \u001b[0;36m<module>\u001b[0;34m()\u001b[0m\n\u001b[0;32m----> 1\u001b[0;31m \u001b[0mdataframe\u001b[0m\u001b[0;34m=\u001b[0m\u001b[0mpd\u001b[0m\u001b[0;34m.\u001b[0m\u001b[0mread_json\u001b[0m\u001b[0;34m(\u001b[0m\u001b[0;34m\"/content/data.json\"\u001b[0m\u001b[0;34m)\u001b[0m\u001b[0;34m\u001b[0m\u001b[0;34m\u001b[0m\u001b[0m\n\u001b[0m\u001b[1;32m      2\u001b[0m \u001b[0mresultframe\u001b[0m\u001b[0;34m=\u001b[0m\u001b[0mpd\u001b[0m\u001b[0;34m.\u001b[0m\u001b[0mread_json\u001b[0m\u001b[0;34m(\u001b[0m\u001b[0;34m\"/content/result.json\"\u001b[0m\u001b[0;34m)\u001b[0m\u001b[0;34m\u001b[0m\u001b[0;34m\u001b[0m\u001b[0m\n\u001b[1;32m      3\u001b[0m \u001b[0;31m#generating numerical labels\u001b[0m\u001b[0;34m\u001b[0m\u001b[0;34m\u001b[0m\u001b[0;34m\u001b[0m\u001b[0m\n\u001b[1;32m      4\u001b[0m \u001b[0;34m\u001b[0m\u001b[0m\n\u001b[1;32m      5\u001b[0m \u001b[0mprint\u001b[0m\u001b[0;34m(\u001b[0m\u001b[0mdataframe\u001b[0m\u001b[0;34m)\u001b[0m\u001b[0;34m\u001b[0m\u001b[0;34m\u001b[0m\u001b[0m\n",
            "\u001b[0;31mNameError\u001b[0m: name 'pd' is not defined"
          ]
        }
      ]
    },
    {
      "cell_type": "markdown",
      "source": [
        "## Data Visualization"
      ],
      "metadata": {
        "id": "Wz0XCdnRz4Do"
      }
    },
    {
      "cell_type": "markdown",
      "source": [
        "## Making the predictions\n",
        "\n",
        "After having created a model of what our client wants, we will now make predictions on some photos in the training set."
      ],
      "metadata": {
        "id": "st3DgoutdUCi"
      }
    },
    {
      "cell_type": "code",
      "source": [
        "def maketestDf(limit):\n",
        "  data = []\n",
        "  photographer = [\"Romain\",\"Maxime\",\"Michel\",\"Denis\",\"Jaquie\",\"Fares\"]\n",
        "\n",
        "  for environment in os.listdir(\"/content/images/Data-Mining/archive/seg_train\"):\n",
        "      i=0\n",
        "      print(\"[$] Loaded %s\" %(environment,))\n",
        "\n",
        "      for image in os.listdir(\"/content/images/Data-Mining/archive/seg_train\" +\"/\"+ str(environment)):\n",
        "        i+=1\n",
        "\n",
        "        info = [\n",
        "                environment+'/'+image, \n",
        "                environment, \n",
        "                random.randint(1995,2021),\n",
        "                photographer[random.randint(0,len(photographer)-1)],\n",
        "                getMainColor(\"/content/images/Data-Mining/archive/seg_train/\"+environment+\"/\"+image)\n",
        "                ]\n",
        "\n",
        "        try:\n",
        "          with warnings.catch_warnings():\n",
        "            warnings.simplefilter(\"ignore\")\n",
        "            \n",
        "            prediction = dtc.predict(\n",
        "              [\n",
        "                  [\n",
        "                  le2.transform([info[1]])[0],\n",
        "                  le3.transform([info[2]])[0], \n",
        "                  le4.transform([info[3]])[0],\n",
        "                  le5.transform([info[4]])[0]\n",
        "                  ]\n",
        "              ])\n",
        "            \n",
        "            info.append(le6.inverse_transform(prediction)[0])\n",
        "\n",
        "            data.append(info)\n",
        "\n",
        "        except ValueError:\n",
        "          print(\"[$] An unseen variable has been detected. It will be ignored.\")\n",
        "          pass\n",
        "        \n",
        "        if i==limit:\n",
        "          break\n",
        "        \n",
        "  \n",
        "\n",
        "  return pd.DataFrame(data,\n",
        "                      columns = ['filename','environment','year','photographer','main_color','prediction'])\n"
      ],
      "metadata": {
        "id": "nvgHLPXpQTbs"
      },
      "execution_count": null,
      "outputs": []
    },
    {
      "cell_type": "markdown",
      "source": [
        "## Recommendation System"
      ],
      "metadata": {
        "id": "jmUMQlavz8Nf"
      }
    },
    {
      "cell_type": "markdown",
      "source": [
        "## Showing photos the client would like\n",
        "\n"
      ],
      "metadata": {
        "id": "q2jji5kZdspP"
      }
    },
    {
      "cell_type": "code",
      "source": [
        "limit = 10\n",
        "\n",
        "df = maketestDf(limit)\n",
        "df_liked = df[df['prediction']=='Like']\n",
        "\n",
        "first = df_liked.iloc[0]['filename']\n",
        "image = mpimg.imread(\"/content/images/Data-Mining/archive/seg_train/\"+first)\n",
        "imgplot = plt.imshow(image)"
      ],
      "metadata": {
        "colab": {
          "base_uri": "https://localhost:8080/",
          "height": 371
        },
        "id": "nqImg_Vag-Ul",
        "outputId": "343fe3d4-7b08-4e1d-d152-15312e1d3af6"
      },
      "execution_count": 64,
      "outputs": [
        {
          "output_type": "stream",
          "name": "stdout",
          "text": [
            "[$] Loaded buildings\n",
            "[$] Loaded street\n",
            "[$] Loaded sea\n",
            "[$] Loaded forest\n",
            "[$] Loaded glacier\n",
            "[$] Loaded mountain\n"
          ]
        },
        {
          "output_type": "display_data",
          "data": {
            "text/plain": [
              "<Figure size 432x288 with 1 Axes>"
            ],
            "image/png": "[encoded data removed]"
          },
          "metadata": {
            "needs_background": "light"
          }
        }
      ]
    },
    {
      "cell_type": "markdown",
      "source": [
        "## Report"
      ],
      "metadata": {
        "id": "UeKIwOur0G7k"
      }
    }
  ]
}